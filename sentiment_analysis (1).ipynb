{
  "cells": [
    {
      "cell_type": "markdown",
      "source": [
        "#**SENTIMENT ANALYSIS OF WIKIPEDIA DATA**"
      ],
      "metadata": {
        "id": "Qy9uGLTesVlo"
      },
      "id": "Qy9uGLTesVlo"
    },
    {
      "cell_type": "code",
      "execution_count": null,
      "metadata": {
        "id": "782e2618"
      },
      "outputs": [],
      "source": [
        "!pip install -U mwclient\n",
        "!pip install -U transformers"
      ],
      "id": "782e2618"
    },
    {
      "cell_type": "code",
      "source": [
        "import mwclient\n",
        "import time\n",
        "from transformers import pipeline\n",
        "from multiprocessing import Pool\n",
        "from statistics import mean\n",
        "import pandas as pd\n",
        "from datetime import datetime"
      ],
      "metadata": {
        "colab": {
          "base_uri": "https://localhost:8080/"
        },
        "id": "QM52289seMSb",
        "outputId": "ad9a8a00-77e8-45ef-b30e-062e7cd12a6a"
      },
      "id": "QM52289seMSb",
      "execution_count": null,
      "outputs": [
        {
          "output_type": "stream",
          "name": "stderr",
          "text": [
            "/usr/local/lib/python3.10/dist-packages/tensorflow_probability/python/__init__.py:57: DeprecationWarning: distutils Version classes are deprecated. Use packaging.version instead.\n",
            "  if (distutils.version.LooseVersion(tf.__version__) <\n",
            "/usr/local/lib/python3.10/dist-packages/tensorflow_probability/python/__init__.py:58: DeprecationWarning: distutils Version classes are deprecated. Use packaging.version instead.\n",
            "  distutils.version.LooseVersion(required_tensorflow_version)):\n"
          ]
        }
      ]
    },
    {
      "cell_type": "code",
      "source": [
        "import matplotlib.pyplot as plt\n",
        "import numpy as np"
      ],
      "metadata": {
        "colab": {
          "base_uri": "https://localhost:8080/"
        },
        "id": "6YX57vZlnKtl",
        "outputId": "f6876b5a-3d54-4cf7-e417-ede5031fdf19"
      },
      "id": "6YX57vZlnKtl",
      "execution_count": null,
      "outputs": [
        {
          "output_type": "stream",
          "name": "stderr",
          "text": [
            "/usr/local/lib/python3.10/dist-packages/ipykernel/ipkernel.py:283: DeprecationWarning: `should_run_async` will not call `transform_cell` automatically in the future. Please pass the result to `transformed_cell` argument and any exception that happen during thetransform in `preprocessing_exc_tuple` in IPython 7.17 and above.\n",
            "  and should_run_async(code)\n"
          ]
        }
      ]
    },
    {
      "cell_type": "code",
      "execution_count": null,
      "metadata": {
        "id": "2116eefb"
      },
      "outputs": [],
      "source": [
        "#Accessing the data wikipedia page of Bitcoin\n",
        "site = mwclient.Site(\"en.wikipedia.org\")\n",
        "page = site.pages[\"Bitcoin\"]\n",
        "page_content = page.text()\n",
        "print(page_content)"
      ],
      "id": "2116eefb"
    },
    {
      "cell_type": "code",
      "execution_count": null,
      "metadata": {
        "id": "196f8c5d",
        "colab": {
          "base_uri": "https://localhost:8080/"
        },
        "outputId": "5d0a3229-bf98-4989-d2d8-4007bb0ae1be"
      },
      "outputs": [
        {
          "output_type": "stream",
          "name": "stderr",
          "text": [
            "/usr/local/lib/python3.10/dist-packages/ipykernel/ipkernel.py:283: DeprecationWarning: `should_run_async` will not call `transform_cell` automatically in the future. Please pass the result to `transformed_cell` argument and any exception that happen during thetransform in `preprocessing_exc_tuple` in IPython 7.17 and above.\n",
            "  and should_run_async(code)\n"
          ]
        }
      ],
      "source": [
        "#Accessing the list of revisions\n",
        "revs = list(page.revisions())"
      ],
      "id": "196f8c5d"
    },
    {
      "cell_type": "code",
      "execution_count": null,
      "metadata": {
        "id": "18732b5f",
        "colab": {
          "base_uri": "https://localhost:8080/"
        },
        "outputId": "bd8205d8-3ae9-4a7a-fcc5-cdad33207192"
      },
      "outputs": [
        {
          "output_type": "stream",
          "name": "stderr",
          "text": [
            "/usr/local/lib/python3.10/dist-packages/ipykernel/ipkernel.py:283: DeprecationWarning: `should_run_async` will not call `transform_cell` automatically in the future. Please pass the result to `transformed_cell` argument and any exception that happen during thetransform in `preprocessing_exc_tuple` in IPython 7.17 and above.\n",
            "  and should_run_async(code)\n"
          ]
        },
        {
          "output_type": "execute_result",
          "data": {
            "text/plain": [
              "OrderedDict([('revid', 275832581),\n",
              "             ('parentid', 0),\n",
              "             ('user', 'Pratyeka'),\n",
              "             ('timestamp',\n",
              "              time.struct_time(tm_year=2009, tm_mon=3, tm_mday=8, tm_hour=16, tm_min=41, tm_sec=7, tm_wday=6, tm_yday=67, tm_isdst=-1)),\n",
              "             ('comment', 'creation (stub)')])"
            ]
          },
          "metadata": {},
          "execution_count": 5
        }
      ],
      "source": [
        "#Sorting the revisions by their dates\n",
        "revs= sorted(revs, key=lambda rev: rev[\"timestamp\"])\n",
        "revs[0]"
      ],
      "id": "18732b5f"
    },
    {
      "cell_type": "code",
      "execution_count": null,
      "metadata": {
        "id": "73f9065b"
      },
      "outputs": [],
      "source": [
        "#function to analyse the sentiment of any given text\n",
        "sentiment_pipeline = pipeline(\"sentiment-analysis\")\n",
        "\n",
        "def find_sentiment(text):\n",
        "    sent= sentiment_pipeline([text[0:250]])[0]\n",
        "    score = sent[\"score\"]\n",
        "    if(sent[\"label\"] == \"NEGATIVE\"):\n",
        "        score *= -1\n",
        "    return score"
      ],
      "id": "73f9065b"
    },
    {
      "cell_type": "code",
      "execution_count": null,
      "metadata": {
        "colab": {
          "base_uri": "https://localhost:8080/"
        },
        "id": "5a522d57",
        "outputId": "8878fb57-407e-4948-f115-c5a67739a206"
      },
      "outputs": [
        {
          "output_type": "stream",
          "name": "stderr",
          "text": [
            "/usr/local/lib/python3.10/dist-packages/ipykernel/ipkernel.py:283: DeprecationWarning: `should_run_async` will not call `transform_cell` automatically in the future. Please pass the result to `transformed_cell` argument and any exception that happen during thetransform in `preprocessing_exc_tuple` in IPython 7.17 and above.\n",
            "  and should_run_async(code)\n"
          ]
        }
      ],
      "source": [
        "#This code iterates over all the edits made on the wikipedia page of Bitcoin and stores their sentiment value in edits dictionary\n",
        "edits = {}\n",
        "\n",
        "for rev in revs:\n",
        "    date = time.strftime(\"%Y-%m-%d\", rev[\"timestamp\"])\n",
        "    if date not in edits:\n",
        "        edits[date] = dict(sentiments=list(), edit_count=0)\n",
        "\n",
        "    edits[date][\"edit_count\"] += 1\n",
        "\n",
        "    comment = rev.get(\"comment\", \"\")\n",
        "    edits[date][\"sentiments\"].append(find_sentiment(comment))"
      ],
      "id": "5a522d57"
    },
    {
      "cell_type": "code",
      "execution_count": null,
      "metadata": {
        "id": "6be71f3b",
        "colab": {
          "base_uri": "https://localhost:8080/"
        },
        "outputId": "c591d3cc-d57e-4844-fce2-3bf6786f1b74"
      },
      "outputs": [
        {
          "output_type": "stream",
          "name": "stderr",
          "text": [
            "/usr/local/lib/python3.10/dist-packages/ipykernel/ipkernel.py:283: DeprecationWarning: `should_run_async` will not call `transform_cell` automatically in the future. Please pass the result to `transformed_cell` argument and any exception that happen during thetransform in `preprocessing_exc_tuple` in IPython 7.17 and above.\n",
            "  and should_run_async(code)\n"
          ]
        }
      ],
      "source": [
        "#Here all the sentiments of the same day are averaged to give the average sentiment of that day\n",
        "#We have also captured the negative sentiments of the people based on their edits of that day\n",
        "for key in edits:\n",
        "    if len(edits[key][\"sentiments\"])>0:\n",
        "        edits[key][\"mean_sentiment\"]=mean(edits[key][\"sentiments\"])\n",
        "        edits[key][\"neg_sentiment\"]= len([s for s in edits[key][\"sentiments\"] if s<0]) / len(edits[key][\"sentiments\"])\n",
        "    else:\n",
        "        edits[key][\"mean_sentiment\"]=0\n",
        "        edits[key][\"neg_sentiment\"]=0\n",
        "    del edits[key][\"sentiments\"]"
      ],
      "id": "6be71f3b"
    },
    {
      "cell_type": "code",
      "execution_count": null,
      "metadata": {
        "id": "e0ee69f1",
        "colab": {
          "base_uri": "https://localhost:8080/"
        },
        "outputId": "35f46f41-904d-4f09-d418-93579d27fa64"
      },
      "outputs": [
        {
          "output_type": "stream",
          "name": "stderr",
          "text": [
            "/usr/local/lib/python3.10/dist-packages/ipykernel/ipkernel.py:283: DeprecationWarning: `should_run_async` will not call `transform_cell` automatically in the future. Please pass the result to `transformed_cell` argument and any exception that happen during thetransform in `preprocessing_exc_tuple` in IPython 7.17 and above.\n",
            "  and should_run_async(code)\n"
          ]
        },
        {
          "output_type": "execute_result",
          "data": {
            "text/plain": [
              "{'edit_count': 4, 'mean_sentiment': -0.5505250245332718, 'neg_sentiment': 0.75}"
            ]
          },
          "metadata": {},
          "execution_count": 17
        }
      ],
      "source": [
        "edits['2009-03-08']"
      ],
      "id": "e0ee69f1"
    },
    {
      "cell_type": "code",
      "execution_count": null,
      "metadata": {
        "id": "17dd6b6c",
        "colab": {
          "base_uri": "https://localhost:8080/"
        },
        "outputId": "c0b4cb08-1bd8-4286-9c1c-0b6621b1e321"
      },
      "outputs": [
        {
          "output_type": "stream",
          "name": "stderr",
          "text": [
            "/usr/local/lib/python3.10/dist-packages/ipykernel/ipkernel.py:283: DeprecationWarning: `should_run_async` will not call `transform_cell` automatically in the future. Please pass the result to `transformed_cell` argument and any exception that happen during thetransform in `preprocessing_exc_tuple` in IPython 7.17 and above.\n",
            "  and should_run_async(code)\n"
          ]
        }
      ],
      "source": [
        "edits_df = pd.DataFrame.from_dict(edits, orient=\"index\")"
      ],
      "id": "17dd6b6c"
    },
    {
      "cell_type": "code",
      "execution_count": null,
      "metadata": {
        "id": "6cf7de2c",
        "colab": {
          "base_uri": "https://localhost:8080/"
        },
        "outputId": "deca4797-d5e7-43ed-afc1-a199db7f11cd"
      },
      "outputs": [
        {
          "output_type": "stream",
          "name": "stderr",
          "text": [
            "/usr/local/lib/python3.10/dist-packages/ipykernel/ipkernel.py:283: DeprecationWarning: `should_run_async` will not call `transform_cell` automatically in the future. Please pass the result to `transformed_cell` argument and any exception that happen during thetransform in `preprocessing_exc_tuple` in IPython 7.17 and above.\n",
            "  and should_run_async(code)\n"
          ]
        }
      ],
      "source": [
        "edits_df.index = pd.to_datetime(edits_df.index)"
      ],
      "id": "6cf7de2c"
    },
    {
      "cell_type": "code",
      "execution_count": null,
      "metadata": {
        "id": "023648ab",
        "colab": {
          "base_uri": "https://localhost:8080/"
        },
        "outputId": "b18b4b4f-8088-48fa-c815-4d4822088fa2"
      },
      "outputs": [
        {
          "output_type": "stream",
          "name": "stderr",
          "text": [
            "/usr/local/lib/python3.10/dist-packages/ipykernel/ipkernel.py:283: DeprecationWarning: `should_run_async` will not call `transform_cell` automatically in the future. Please pass the result to `transformed_cell` argument and any exception that happen during thetransform in `preprocessing_exc_tuple` in IPython 7.17 and above.\n",
            "  and should_run_async(code)\n"
          ]
        },
        {
          "output_type": "execute_result",
          "data": {
            "text/plain": [
              "DatetimeIndex(['2009-03-08', '2009-03-09', '2009-03-10', '2009-03-11',\n",
              "               '2009-03-12', '2009-03-13', '2009-03-14', '2009-03-15',\n",
              "               '2009-03-16', '2009-03-17',\n",
              "               ...\n",
              "               '2023-06-12', '2023-06-13', '2023-06-14', '2023-06-15',\n",
              "               '2023-06-16', '2023-06-17', '2023-06-18', '2023-06-19',\n",
              "               '2023-06-20', '2023-06-21'],\n",
              "              dtype='datetime64[ns]', length=5219, freq='D')"
            ]
          },
          "metadata": {},
          "execution_count": 13
        }
      ],
      "source": [
        "dates = pd.date_range(start=\"2009-03-08\",end=datetime.today())\n",
        "dates"
      ],
      "id": "023648ab"
    },
    {
      "cell_type": "code",
      "execution_count": null,
      "metadata": {
        "id": "7472b008",
        "colab": {
          "base_uri": "https://localhost:8080/",
          "height": 478
        },
        "outputId": "496532d8-12e3-4a38-8ee8-8c8df20b872d"
      },
      "outputs": [
        {
          "output_type": "stream",
          "name": "stderr",
          "text": [
            "/usr/local/lib/python3.10/dist-packages/ipykernel/ipkernel.py:283: DeprecationWarning: `should_run_async` will not call `transform_cell` automatically in the future. Please pass the result to `transformed_cell` argument and any exception that happen during thetransform in `preprocessing_exc_tuple` in IPython 7.17 and above.\n",
            "  and should_run_async(code)\n"
          ]
        },
        {
          "output_type": "execute_result",
          "data": {
            "text/plain": [
              "            edit_count  mean_sentiment  neg_sentiment\n",
              "2009-03-08           4       -0.550525           0.75\n",
              "2009-03-09           0        0.000000           0.00\n",
              "2009-03-10           0        0.000000           0.00\n",
              "2009-03-11           0        0.000000           0.00\n",
              "2009-03-12           0        0.000000           0.00\n",
              "...                ...             ...            ...\n",
              "2023-06-17           0        0.000000           0.00\n",
              "2023-06-18           0        0.000000           0.00\n",
              "2023-06-19           0        0.000000           0.00\n",
              "2023-06-20           0        0.000000           0.00\n",
              "2023-06-21           0        0.000000           0.00\n",
              "\n",
              "[5219 rows x 3 columns]"
            ],
            "text/html": [
              "\n",
              "  <div id=\"df-ccff99c5-2a38-4429-9ff1-0cd20bb90f5f\">\n",
              "    <div class=\"colab-df-container\">\n",
              "      <div>\n",
              "<style scoped>\n",
              "    .dataframe tbody tr th:only-of-type {\n",
              "        vertical-align: middle;\n",
              "    }\n",
              "\n",
              "    .dataframe tbody tr th {\n",
              "        vertical-align: top;\n",
              "    }\n",
              "\n",
              "    .dataframe thead th {\n",
              "        text-align: right;\n",
              "    }\n",
              "</style>\n",
              "<table border=\"1\" class=\"dataframe\">\n",
              "  <thead>\n",
              "    <tr style=\"text-align: right;\">\n",
              "      <th></th>\n",
              "      <th>edit_count</th>\n",
              "      <th>mean_sentiment</th>\n",
              "      <th>neg_sentiment</th>\n",
              "    </tr>\n",
              "  </thead>\n",
              "  <tbody>\n",
              "    <tr>\n",
              "      <th>2009-03-08</th>\n",
              "      <td>4</td>\n",
              "      <td>-0.550525</td>\n",
              "      <td>0.75</td>\n",
              "    </tr>\n",
              "    <tr>\n",
              "      <th>2009-03-09</th>\n",
              "      <td>0</td>\n",
              "      <td>0.000000</td>\n",
              "      <td>0.00</td>\n",
              "    </tr>\n",
              "    <tr>\n",
              "      <th>2009-03-10</th>\n",
              "      <td>0</td>\n",
              "      <td>0.000000</td>\n",
              "      <td>0.00</td>\n",
              "    </tr>\n",
              "    <tr>\n",
              "      <th>2009-03-11</th>\n",
              "      <td>0</td>\n",
              "      <td>0.000000</td>\n",
              "      <td>0.00</td>\n",
              "    </tr>\n",
              "    <tr>\n",
              "      <th>2009-03-12</th>\n",
              "      <td>0</td>\n",
              "      <td>0.000000</td>\n",
              "      <td>0.00</td>\n",
              "    </tr>\n",
              "    <tr>\n",
              "      <th>...</th>\n",
              "      <td>...</td>\n",
              "      <td>...</td>\n",
              "      <td>...</td>\n",
              "    </tr>\n",
              "    <tr>\n",
              "      <th>2023-06-17</th>\n",
              "      <td>0</td>\n",
              "      <td>0.000000</td>\n",
              "      <td>0.00</td>\n",
              "    </tr>\n",
              "    <tr>\n",
              "      <th>2023-06-18</th>\n",
              "      <td>0</td>\n",
              "      <td>0.000000</td>\n",
              "      <td>0.00</td>\n",
              "    </tr>\n",
              "    <tr>\n",
              "      <th>2023-06-19</th>\n",
              "      <td>0</td>\n",
              "      <td>0.000000</td>\n",
              "      <td>0.00</td>\n",
              "    </tr>\n",
              "    <tr>\n",
              "      <th>2023-06-20</th>\n",
              "      <td>0</td>\n",
              "      <td>0.000000</td>\n",
              "      <td>0.00</td>\n",
              "    </tr>\n",
              "    <tr>\n",
              "      <th>2023-06-21</th>\n",
              "      <td>0</td>\n",
              "      <td>0.000000</td>\n",
              "      <td>0.00</td>\n",
              "    </tr>\n",
              "  </tbody>\n",
              "</table>\n",
              "<p>5219 rows × 3 columns</p>\n",
              "</div>\n",
              "      <button class=\"colab-df-convert\" onclick=\"convertToInteractive('df-ccff99c5-2a38-4429-9ff1-0cd20bb90f5f')\"\n",
              "              title=\"Convert this dataframe to an interactive table.\"\n",
              "              style=\"display:none;\">\n",
              "        \n",
              "  <svg xmlns=\"http://www.w3.org/2000/svg\" height=\"24px\"viewBox=\"0 0 24 24\"\n",
              "       width=\"24px\">\n",
              "    <path d=\"M0 0h24v24H0V0z\" fill=\"none\"/>\n",
              "    <path d=\"M18.56 5.44l.94 2.06.94-2.06 2.06-.94-2.06-.94-.94-2.06-.94 2.06-2.06.94zm-11 1L8.5 8.5l.94-2.06 2.06-.94-2.06-.94L8.5 2.5l-.94 2.06-2.06.94zm10 10l.94 2.06.94-2.06 2.06-.94-2.06-.94-.94-2.06-.94 2.06-2.06.94z\"/><path d=\"M17.41 7.96l-1.37-1.37c-.4-.4-.92-.59-1.43-.59-.52 0-1.04.2-1.43.59L10.3 9.45l-7.72 7.72c-.78.78-.78 2.05 0 2.83L4 21.41c.39.39.9.59 1.41.59.51 0 1.02-.2 1.41-.59l7.78-7.78 2.81-2.81c.8-.78.8-2.07 0-2.86zM5.41 20L4 18.59l7.72-7.72 1.47 1.35L5.41 20z\"/>\n",
              "  </svg>\n",
              "      </button>\n",
              "      \n",
              "  <style>\n",
              "    .colab-df-container {\n",
              "      display:flex;\n",
              "      flex-wrap:wrap;\n",
              "      gap: 12px;\n",
              "    }\n",
              "\n",
              "    .colab-df-convert {\n",
              "      background-color: #E8F0FE;\n",
              "      border: none;\n",
              "      border-radius: 50%;\n",
              "      cursor: pointer;\n",
              "      display: none;\n",
              "      fill: #1967D2;\n",
              "      height: 32px;\n",
              "      padding: 0 0 0 0;\n",
              "      width: 32px;\n",
              "    }\n",
              "\n",
              "    .colab-df-convert:hover {\n",
              "      background-color: #E2EBFA;\n",
              "      box-shadow: 0px 1px 2px rgba(60, 64, 67, 0.3), 0px 1px 3px 1px rgba(60, 64, 67, 0.15);\n",
              "      fill: #174EA6;\n",
              "    }\n",
              "\n",
              "    [theme=dark] .colab-df-convert {\n",
              "      background-color: #3B4455;\n",
              "      fill: #D2E3FC;\n",
              "    }\n",
              "\n",
              "    [theme=dark] .colab-df-convert:hover {\n",
              "      background-color: #434B5C;\n",
              "      box-shadow: 0px 1px 3px 1px rgba(0, 0, 0, 0.15);\n",
              "      filter: drop-shadow(0px 1px 2px rgba(0, 0, 0, 0.3));\n",
              "      fill: #FFFFFF;\n",
              "    }\n",
              "  </style>\n",
              "\n",
              "      <script>\n",
              "        const buttonEl =\n",
              "          document.querySelector('#df-ccff99c5-2a38-4429-9ff1-0cd20bb90f5f button.colab-df-convert');\n",
              "        buttonEl.style.display =\n",
              "          google.colab.kernel.accessAllowed ? 'block' : 'none';\n",
              "\n",
              "        async function convertToInteractive(key) {\n",
              "          const element = document.querySelector('#df-ccff99c5-2a38-4429-9ff1-0cd20bb90f5f');\n",
              "          const dataTable =\n",
              "            await google.colab.kernel.invokeFunction('convertToInteractive',\n",
              "                                                     [key], {});\n",
              "          if (!dataTable) return;\n",
              "\n",
              "          const docLinkHtml = 'Like what you see? Visit the ' +\n",
              "            '<a target=\"_blank\" href=https://colab.research.google.com/notebooks/data_table.ipynb>data table notebook</a>'\n",
              "            + ' to learn more about interactive tables.';\n",
              "          element.innerHTML = '';\n",
              "          dataTable['output_type'] = 'display_data';\n",
              "          await google.colab.output.renderOutput(dataTable, element);\n",
              "          const docLink = document.createElement('div');\n",
              "          docLink.innerHTML = docLinkHtml;\n",
              "          element.appendChild(docLink);\n",
              "        }\n",
              "      </script>\n",
              "    </div>\n",
              "  </div>\n",
              "  "
            ]
          },
          "metadata": {},
          "execution_count": 14
        }
      ],
      "source": [
        "#The data of sentiment is filled arranged according to the dates and the dates with no sentiments have zero stored in them\n",
        "edits_df = edits_df.reindex(dates, fill_value=0)\n",
        "edits_df"
      ],
      "id": "7472b008"
    },
    {
      "cell_type": "code",
      "execution_count": null,
      "metadata": {
        "id": "7088a421",
        "colab": {
          "base_uri": "https://localhost:8080/"
        },
        "outputId": "3ca4c676-48e9-44e0-cd7a-882570595111"
      },
      "outputs": [
        {
          "output_type": "stream",
          "name": "stderr",
          "text": [
            "/usr/local/lib/python3.10/dist-packages/ipykernel/ipkernel.py:283: DeprecationWarning: `should_run_async` will not call `transform_cell` automatically in the future. Please pass the result to `transformed_cell` argument and any exception that happen during thetransform in `preprocessing_exc_tuple` in IPython 7.17 and above.\n",
            "  and should_run_async(code)\n"
          ]
        }
      ],
      "source": [
        "#This creates a new dataset which stores the average value of the past 30 days thereby removing the noise\n",
        "rolling_edits = edits_df.rolling(30, min_periods=30).mean()"
      ],
      "id": "7088a421"
    },
    {
      "cell_type": "code",
      "execution_count": null,
      "metadata": {
        "id": "d74977dc",
        "colab": {
          "base_uri": "https://localhost:8080/"
        },
        "outputId": "76ea36fc-8bc0-4425-f173-b06ed64b52de"
      },
      "outputs": [
        {
          "output_type": "stream",
          "name": "stderr",
          "text": [
            "/usr/local/lib/python3.10/dist-packages/ipykernel/ipkernel.py:283: DeprecationWarning: `should_run_async` will not call `transform_cell` automatically in the future. Please pass the result to `transformed_cell` argument and any exception that happen during thetransform in `preprocessing_exc_tuple` in IPython 7.17 and above.\n",
            "  and should_run_async(code)\n"
          ]
        }
      ],
      "source": [
        "rolling_edits = rolling_edits.dropna()"
      ],
      "id": "d74977dc"
    },
    {
      "cell_type": "code",
      "source": [
        "thresholds = [-1,0,1]\n",
        "colors = ['red', 'blue', 'orange']\n",
        "set_colors = np.digitize(rolling_edits['mean_sentiment'],thresholds)\n",
        "scatter_colors = [colors[idx] for idx in set_colors]\n",
        "plt.scatter(rolling_edits.index, rolling_edits['mean_sentiment'], c=scatter_colors)\n",
        "plt.xlabel('Time')\n",
        "plt.ylabel('Mean Sentiment')\n",
        "plt.title('Graph of Mean Sentiment vs Time')"
      ],
      "metadata": {
        "colab": {
          "base_uri": "https://localhost:8080/",
          "height": 521
        },
        "id": "lVl9DEuUe9Rk",
        "outputId": "56456a99-448b-4120-be20-75c3837952fd"
      },
      "id": "lVl9DEuUe9Rk",
      "execution_count": null,
      "outputs": [
        {
          "output_type": "stream",
          "name": "stderr",
          "text": [
            "/usr/local/lib/python3.10/dist-packages/ipykernel/ipkernel.py:283: DeprecationWarning: `should_run_async` will not call `transform_cell` automatically in the future. Please pass the result to `transformed_cell` argument and any exception that happen during thetransform in `preprocessing_exc_tuple` in IPython 7.17 and above.\n",
            "  and should_run_async(code)\n"
          ]
        },
        {
          "output_type": "execute_result",
          "data": {
            "text/plain": [
              "Text(0, 0.5, 'Mean Sentiment')"
            ]
          },
          "metadata": {},
          "execution_count": 35
        },
        {
          "output_type": "display_data",
          "data": {
            "text/plain": [
              "<Figure size 640x480 with 1 Axes>"
            ],
            "image/png": "[encoded data removed]"
          },
          "metadata": {}
        }
      ]
    },
    {
      "cell_type": "code",
      "source": [
        "plt.scatter(rolling_edits.index, rolling_edits['neg_sentiment'],color='Purple' )\n",
        "plt.xlabel('Time')\n",
        "plt.ylabel('Negative Sentiment')\n",
        "plt.title('Graph of Negative Sentiment vs Time')"
      ],
      "metadata": {
        "colab": {
          "base_uri": "https://localhost:8080/",
          "height": 521
        },
        "id": "V25YTfvbfFSV",
        "outputId": "7298c43b-ca27-4e02-ebda-09f73e1c3809"
      },
      "id": "V25YTfvbfFSV",
      "execution_count": null,
      "outputs": [
        {
          "output_type": "stream",
          "name": "stderr",
          "text": [
            "/usr/local/lib/python3.10/dist-packages/ipykernel/ipkernel.py:283: DeprecationWarning: `should_run_async` will not call `transform_cell` automatically in the future. Please pass the result to `transformed_cell` argument and any exception that happen during thetransform in `preprocessing_exc_tuple` in IPython 7.17 and above.\n",
            "  and should_run_async(code)\n"
          ]
        },
        {
          "output_type": "execute_result",
          "data": {
            "text/plain": [
              "Text(0, 0.5, 'Negative Sentiment')"
            ]
          },
          "metadata": {},
          "execution_count": 37
        },
        {
          "output_type": "display_data",
          "data": {
            "text/plain": [
              "<Figure size 640x480 with 1 Axes>"
            ],
            "image/png": "[encoded data removed]"
          },
          "metadata": {}
        }
      ]
    },
    {
      "cell_type": "code",
      "execution_count": null,
      "metadata": {
        "id": "118745f8",
        "colab": {
          "base_uri": "https://localhost:8080/",
          "height": 478
        },
        "outputId": "62aeaa51-bc61-4218-b556-378a81164e63"
      },
      "outputs": [
        {
          "output_type": "stream",
          "name": "stderr",
          "text": [
            "/usr/local/lib/python3.10/dist-packages/ipykernel/ipkernel.py:283: DeprecationWarning: `should_run_async` will not call `transform_cell` automatically in the future. Please pass the result to `transformed_cell` argument and any exception that happen during thetransform in `preprocessing_exc_tuple` in IPython 7.17 and above.\n",
            "  and should_run_async(code)\n"
          ]
        },
        {
          "output_type": "execute_result",
          "data": {
            "text/plain": [
              "            edit_count  mean_sentiment  neg_sentiment\n",
              "2009-04-06    0.133333       -0.018351       0.025000\n",
              "2009-04-07    0.000000        0.000000       0.000000\n",
              "2009-04-08    0.000000        0.000000       0.000000\n",
              "2009-04-09    0.000000        0.000000       0.000000\n",
              "2009-04-10    0.000000        0.000000       0.000000\n",
              "...                ...             ...            ...\n",
              "2023-06-17    0.333333       -0.077991       0.155556\n",
              "2023-06-18    0.333333       -0.077991       0.155556\n",
              "2023-06-19    0.333333       -0.077991       0.155556\n",
              "2023-06-20    0.333333       -0.077991       0.155556\n",
              "2023-06-21    0.333333       -0.077991       0.155556\n",
              "\n",
              "[5190 rows x 3 columns]"
            ],
            "text/html": [
              "\n",
              "  <div id=\"df-6046df1a-ec8e-4eff-8d98-f058c91d71fc\">\n",
              "    <div class=\"colab-df-container\">\n",
              "      <div>\n",
              "<style scoped>\n",
              "    .dataframe tbody tr th:only-of-type {\n",
              "        vertical-align: middle;\n",
              "    }\n",
              "\n",
              "    .dataframe tbody tr th {\n",
              "        vertical-align: top;\n",
              "    }\n",
              "\n",
              "    .dataframe thead th {\n",
              "        text-align: right;\n",
              "    }\n",
              "</style>\n",
              "<table border=\"1\" class=\"dataframe\">\n",
              "  <thead>\n",
              "    <tr style=\"text-align: right;\">\n",
              "      <th></th>\n",
              "      <th>edit_count</th>\n",
              "      <th>mean_sentiment</th>\n",
              "      <th>neg_sentiment</th>\n",
              "    </tr>\n",
              "  </thead>\n",
              "  <tbody>\n",
              "    <tr>\n",
              "      <th>2009-04-06</th>\n",
              "      <td>0.133333</td>\n",
              "      <td>-0.018351</td>\n",
              "      <td>0.025000</td>\n",
              "    </tr>\n",
              "    <tr>\n",
              "      <th>2009-04-07</th>\n",
              "      <td>0.000000</td>\n",
              "      <td>0.000000</td>\n",
              "      <td>0.000000</td>\n",
              "    </tr>\n",
              "    <tr>\n",
              "      <th>2009-04-08</th>\n",
              "      <td>0.000000</td>\n",
              "      <td>0.000000</td>\n",
              "      <td>0.000000</td>\n",
              "    </tr>\n",
              "    <tr>\n",
              "      <th>2009-04-09</th>\n",
              "      <td>0.000000</td>\n",
              "      <td>0.000000</td>\n",
              "      <td>0.000000</td>\n",
              "    </tr>\n",
              "    <tr>\n",
              "      <th>2009-04-10</th>\n",
              "      <td>0.000000</td>\n",
              "      <td>0.000000</td>\n",
              "      <td>0.000000</td>\n",
              "    </tr>\n",
              "    <tr>\n",
              "      <th>...</th>\n",
              "      <td>...</td>\n",
              "      <td>...</td>\n",
              "      <td>...</td>\n",
              "    </tr>\n",
              "    <tr>\n",
              "      <th>2023-06-17</th>\n",
              "      <td>0.333333</td>\n",
              "      <td>-0.077991</td>\n",
              "      <td>0.155556</td>\n",
              "    </tr>\n",
              "    <tr>\n",
              "      <th>2023-06-18</th>\n",
              "      <td>0.333333</td>\n",
              "      <td>-0.077991</td>\n",
              "      <td>0.155556</td>\n",
              "    </tr>\n",
              "    <tr>\n",
              "      <th>2023-06-19</th>\n",
              "      <td>0.333333</td>\n",
              "      <td>-0.077991</td>\n",
              "      <td>0.155556</td>\n",
              "    </tr>\n",
              "    <tr>\n",
              "      <th>2023-06-20</th>\n",
              "      <td>0.333333</td>\n",
              "      <td>-0.077991</td>\n",
              "      <td>0.155556</td>\n",
              "    </tr>\n",
              "    <tr>\n",
              "      <th>2023-06-21</th>\n",
              "      <td>0.333333</td>\n",
              "      <td>-0.077991</td>\n",
              "      <td>0.155556</td>\n",
              "    </tr>\n",
              "  </tbody>\n",
              "</table>\n",
              "<p>5190 rows × 3 columns</p>\n",
              "</div>\n",
              "      <button class=\"colab-df-convert\" onclick=\"convertToInteractive('df-6046df1a-ec8e-4eff-8d98-f058c91d71fc')\"\n",
              "              title=\"Convert this dataframe to an interactive table.\"\n",
              "              style=\"display:none;\">\n",
              "        \n",
              "  <svg xmlns=\"http://www.w3.org/2000/svg\" height=\"24px\"viewBox=\"0 0 24 24\"\n",
              "       width=\"24px\">\n",
              "    <path d=\"M0 0h24v24H0V0z\" fill=\"none\"/>\n",
              "    <path d=\"M18.56 5.44l.94 2.06.94-2.06 2.06-.94-2.06-.94-.94-2.06-.94 2.06-2.06.94zm-11 1L8.5 8.5l.94-2.06 2.06-.94-2.06-.94L8.5 2.5l-.94 2.06-2.06.94zm10 10l.94 2.06.94-2.06 2.06-.94-2.06-.94-.94-2.06-.94 2.06-2.06.94z\"/><path d=\"M17.41 7.96l-1.37-1.37c-.4-.4-.92-.59-1.43-.59-.52 0-1.04.2-1.43.59L10.3 9.45l-7.72 7.72c-.78.78-.78 2.05 0 2.83L4 21.41c.39.39.9.59 1.41.59.51 0 1.02-.2 1.41-.59l7.78-7.78 2.81-2.81c.8-.78.8-2.07 0-2.86zM5.41 20L4 18.59l7.72-7.72 1.47 1.35L5.41 20z\"/>\n",
              "  </svg>\n",
              "      </button>\n",
              "      \n",
              "  <style>\n",
              "    .colab-df-container {\n",
              "      display:flex;\n",
              "      flex-wrap:wrap;\n",
              "      gap: 12px;\n",
              "    }\n",
              "\n",
              "    .colab-df-convert {\n",
              "      background-color: #E8F0FE;\n",
              "      border: none;\n",
              "      border-radius: 50%;\n",
              "      cursor: pointer;\n",
              "      display: none;\n",
              "      fill: #1967D2;\n",
              "      height: 32px;\n",
              "      padding: 0 0 0 0;\n",
              "      width: 32px;\n",
              "    }\n",
              "\n",
              "    .colab-df-convert:hover {\n",
              "      background-color: #E2EBFA;\n",
              "      box-shadow: 0px 1px 2px rgba(60, 64, 67, 0.3), 0px 1px 3px 1px rgba(60, 64, 67, 0.15);\n",
              "      fill: #174EA6;\n",
              "    }\n",
              "\n",
              "    [theme=dark] .colab-df-convert {\n",
              "      background-color: #3B4455;\n",
              "      fill: #D2E3FC;\n",
              "    }\n",
              "\n",
              "    [theme=dark] .colab-df-convert:hover {\n",
              "      background-color: #434B5C;\n",
              "      box-shadow: 0px 1px 3px 1px rgba(0, 0, 0, 0.15);\n",
              "      filter: drop-shadow(0px 1px 2px rgba(0, 0, 0, 0.3));\n",
              "      fill: #FFFFFF;\n",
              "    }\n",
              "  </style>\n",
              "\n",
              "      <script>\n",
              "        const buttonEl =\n",
              "          document.querySelector('#df-6046df1a-ec8e-4eff-8d98-f058c91d71fc button.colab-df-convert');\n",
              "        buttonEl.style.display =\n",
              "          google.colab.kernel.accessAllowed ? 'block' : 'none';\n",
              "\n",
              "        async function convertToInteractive(key) {\n",
              "          const element = document.querySelector('#df-6046df1a-ec8e-4eff-8d98-f058c91d71fc');\n",
              "          const dataTable =\n",
              "            await google.colab.kernel.invokeFunction('convertToInteractive',\n",
              "                                                     [key], {});\n",
              "          if (!dataTable) return;\n",
              "\n",
              "          const docLinkHtml = 'Like what you see? Visit the ' +\n",
              "            '<a target=\"_blank\" href=https://colab.research.google.com/notebooks/data_table.ipynb>data table notebook</a>'\n",
              "            + ' to learn more about interactive tables.';\n",
              "          element.innerHTML = '';\n",
              "          dataTable['output_type'] = 'display_data';\n",
              "          await google.colab.output.renderOutput(dataTable, element);\n",
              "          const docLink = document.createElement('div');\n",
              "          docLink.innerHTML = docLinkHtml;\n",
              "          element.appendChild(docLink);\n",
              "        }\n",
              "      </script>\n",
              "    </div>\n",
              "  </div>\n",
              "  "
            ]
          },
          "metadata": {},
          "execution_count": 25
        }
      ],
      "source": [
        "rolling_edits"
      ],
      "id": "118745f8"
    },
    {
      "cell_type": "code",
      "execution_count": null,
      "metadata": {
        "id": "63e2ce59",
        "colab": {
          "base_uri": "https://localhost:8080/"
        },
        "outputId": "f2f085b1-f7a4-4ac9-d125-9956b6e76b24"
      },
      "outputs": [
        {
          "output_type": "stream",
          "name": "stderr",
          "text": [
            "/usr/local/lib/python3.10/dist-packages/ipykernel/ipkernel.py:283: DeprecationWarning: `should_run_async` will not call `transform_cell` automatically in the future. Please pass the result to `transformed_cell` argument and any exception that happen during thetransform in `preprocessing_exc_tuple` in IPython 7.17 and above.\n",
            "  and should_run_async(code)\n"
          ]
        }
      ],
      "source": [
        "rolling_edits.to_csv(\"wikipedia_edits.csv\")"
      ],
      "id": "63e2ce59"
    }
  ],
  "metadata": {
    "colab": {
      "provenance": []
    },
    "kernelspec": {
      "display_name": "Python 3 (ipykernel)",
      "language": "python",
      "name": "python3"
    },
    "language_info": {
      "codemirror_mode": {
        "name": "ipython",
        "version": 3
      },
      "file_extension": ".py",
      "mimetype": "text/x-python",
      "name": "python",
      "nbconvert_exporter": "python",
      "pygments_lexer": "ipython3",
      "version": "3.9.12"
    }
  },
  "nbformat": 4,
  "nbformat_minor": 5
}